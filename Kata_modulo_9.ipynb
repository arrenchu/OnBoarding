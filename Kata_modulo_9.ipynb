{
 "cells": [
  {
   "cell_type": "code",
   "execution_count": null,
   "metadata": {},
   "outputs": [],
   "source": []
  },
  {
   "cell_type": "markdown",
   "metadata": {},
   "source": [
    "Ejercicio 1: Trabajar con argumentos en funciones"
   ]
  },
  {
   "cell_type": "code",
   "execution_count": 8,
   "metadata": {},
   "outputs": [
    {
     "name": "stdout",
     "output_type": "stream",
     "text": [
      " Reporte \n",
      "    Promedio: 50.0\n",
      "    Tanque 1: 100 \n",
      "    Tanque 2: 20 \n",
      "    Tanque 3: 30\n",
      " Reporte \n",
      "    Promedio: 50.0\n",
      "    Tanque 1: 100 \n",
      "    Tanque 2: 20 \n",
      "    Tanque 3: 30\n"
     ]
    }
   ],
   "source": [
    "def tanques(tanque1, tanque2, tanque3): \n",
    "    promedio_gral = (tanque1+tanque2+tanque3)/3 \n",
    "    return f\"\"\" Reporte \n",
    "    Promedio: {promedio_gral}\n",
    "    Tanque 1: {tanque1} \n",
    "    Tanque 2: {tanque2} \n",
    "    Tanque 3: {tanque3}\"\"\"\n",
    "\n",
    "print(tanques(100,20,30))\n",
    "\n",
    "def promedio(valores): \n",
    "    sumaTotal=sum(valores)\n",
    "    index=len(valores) \n",
    "    return sumaTotal/index \n",
    "\n",
    "def tanques_update(tanque11, tanque22, tanque33): \n",
    "\n",
    "    return f\"\"\" Reporte \n",
    "    Promedio: {promedio([tanque11,tanque22,tanque33])}\n",
    "    Tanque 1: {tanque11} \n",
    "    Tanque 2: {tanque22} \n",
    "    Tanque 3: {tanque33}\"\"\"\n",
    "\n",
    "print(tanques_update(100,20,30))\n"
   ]
  },
  {
   "cell_type": "markdown",
   "metadata": {},
   "source": [
    "Ejercicio 2: Trabajo con argumentos de palabra clave"
   ]
  },
  {
   "cell_type": "code",
   "execution_count": 5,
   "metadata": {},
   "outputs": [
    {
     "name": "stdout",
     "output_type": "stream",
     "text": [
      "\n",
      "    Misión a marte\n",
      "    Total del tiempo de vuelo: 42\n",
      "    Combustible: 300000\n",
      "    \n",
      "\n",
      "    misión a luna\n",
      "    Tiempo total del viaje: 76 minutos\n",
      "    combustible: 50000\n",
      "    \n"
     ]
    }
   ],
   "source": [
    "def mision (hr_prelanzamiento, tiempo_vuelo, destino, tanque_ext, tanque_int): \n",
    "    return f\"\"\"\n",
    "    Misión a {destino}\n",
    "    Total del tiempo de vuelo: {hr_prelanzamiento+tiempo_vuelo}\n",
    "    Combustible: {tanque_ext+tanque_int}\n",
    "    \"\"\"\n",
    "\n",
    "print(mision(2,40,'marte',100000,200000))\n",
    "\n",
    "def mision(destino, *minutos, **combustible): \n",
    "    return f\"\"\"\n",
    "    misión a {destino}\n",
    "    Tiempo total del viaje: {sum(minutos)} minutos\n",
    "    combustible: {sum(combustible.values())}\n",
    "    \"\"\"\n",
    "\n",
    "print(mision(\"luna\",10,15,51,main=30000, external=20000))"
   ]
  }
 ],
 "metadata": {
  "interpreter": {
   "hash": "b89b5cfaba6639976dc87ff2fec6d58faec662063367e2c229c520fe71072417"
  },
  "kernelspec": {
   "display_name": "Python 3.10.2 64-bit",
   "language": "python",
   "name": "python3"
  },
  "language_info": {
   "codemirror_mode": {
    "name": "ipython",
    "version": 3
   },
   "file_extension": ".py",
   "mimetype": "text/x-python",
   "name": "python",
   "nbconvert_exporter": "python",
   "pygments_lexer": "ipython3",
   "version": "3.10.2"
  },
  "orig_nbformat": 4
 },
 "nbformat": 4,
 "nbformat_minor": 2
}
