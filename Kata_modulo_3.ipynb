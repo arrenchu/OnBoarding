{
 "cells": [
  {
   "cell_type": "code",
   "execution_count": null,
   "metadata": {},
   "outputs": [],
   "source": []
  },
  {
   "cell_type": "markdown",
   "metadata": {},
   "source": [
    "USO DE IF, ELIF, ELSE"
   ]
  },
  {
   "cell_type": "markdown",
   "metadata": {},
   "source": [
    "Ejercicio 1.1"
   ]
  },
  {
   "cell_type": "code",
   "execution_count": 25,
   "metadata": {},
   "outputs": [
    {
     "name": "stdout",
     "output_type": "stream",
     "text": [
      "Ingresa la velocidad del meteorito(expreselo en km/s)?\n",
      "No hay de qué preocuparse\n"
     ]
    }
   ],
   "source": [
    "# Ingresar velocidad del asteroide \n",
    "print(\"Ingresa la velocidad del meteorito(expreselo en km/s)?\")\n",
    "velocidad = int(input())\n",
    "if velocidad > 25:\n",
    "    print(\"Atención.... la tierra está en peligro\")\n",
    "else:\n",
    "    print(\"No hay de qué preocuparse\")"
   ]
  },
  {
   "cell_type": "markdown",
   "metadata": {},
   "source": [
    "Ejercicio 1.2"
   ]
  },
  {
   "cell_type": "code",
   "execution_count": 29,
   "metadata": {},
   "outputs": [
    {
     "name": "stdout",
     "output_type": "stream",
     "text": [
      "Ni se moleste a mirar arriba\n"
     ]
    }
   ],
   "source": [
    "# Ingresar velocidad del asteroide \n",
    "velocidad = int(input(\"¿A qué velocidad viene el asteroide(expreselo en km/s)?\"))\n",
    "if velocidad >=20:\n",
    "    print(\"Mire arriba, verá un rayo de luz\")\n",
    "else: \n",
    "    print(\"Ni se moleste a mirar arriba\")"
   ]
  },
  {
   "cell_type": "markdown",
   "metadata": {},
   "source": [
    "USO DE OPERADORES AND, OR"
   ]
  },
  {
   "cell_type": "code",
   "execution_count": 44,
   "metadata": {},
   "outputs": [
    {
     "name": "stdout",
     "output_type": "stream",
     "text": [
      "Mira al cielo, viene un asteroide. Verás una luz pero no hay peligro\n"
     ]
    }
   ],
   "source": [
    "# DEFINICIÓN DE LAS VARIABLE \n",
    "velocidad = int(input(\"Exprese la velocidad del asteroide(km/s)\"))\n",
    "tam = int(input(\"Qué tamaño tiene el asteroide (en m)\"))\n",
    "if tam < 25 and velocidad >= 20: \n",
    "    print(\"Mira al cielo, viene un asteroide. Verás una luz pero no hay peligro\")\n",
    "elif tam>25 and velocidad >25: \n",
    "    print(\"Mira al cielo, viene un asteroide. Verás una luz y SI hay peligro\")\n",
    "elif tam>25 or velocidad >25: \n",
    "    print(\"El planeta está en peligro\")\n",
    "else:\n",
    "            print(\"no hay que ver nada\")\n",
    "                            \n"
   ]
  }
 ],
 "metadata": {
  "interpreter": {
   "hash": "b89b5cfaba6639976dc87ff2fec6d58faec662063367e2c229c520fe71072417"
  },
  "kernelspec": {
   "display_name": "Python 3.10.2 64-bit",
   "language": "python",
   "name": "python3"
  },
  "language_info": {
   "codemirror_mode": {
    "name": "ipython",
    "version": 3
   },
   "file_extension": ".py",
   "mimetype": "text/x-python",
   "name": "python",
   "nbconvert_exporter": "python",
   "pygments_lexer": "ipython3",
   "version": "3.10.2"
  },
  "orig_nbformat": 4
 },
 "nbformat": 4,
 "nbformat_minor": 2
}
