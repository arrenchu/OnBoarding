{
 "cells": [
  {
   "cell_type": "code",
   "execution_count": null,
   "metadata": {},
   "outputs": [],
   "source": []
  },
  {
   "cell_type": "markdown",
   "metadata": {},
   "source": [
    "Ejercicio1 - Utilizar operadores aritméticos"
   ]
  },
  {
   "cell_type": "code",
   "execution_count": 14,
   "metadata": {},
   "outputs": [
    {
     "name": "stdout",
     "output_type": "stream",
     "text": [
      "la distancia entre tierra y jupiter es de 6 km\n"
     ]
    }
   ],
   "source": [
    "#definición de variables \n",
    "N_planeta1= str(\"tierra\")\n",
    "N_planeta2= str(\"jupiter\")\n",
    "planeta_1=int(input(\"Introduce la distancia del planeta {} en km\".format(N_planeta1)))\n",
    "\n",
    "planeta_2=int(input(\"Introduce la distancia del planeta {} en km\".format(N_planeta2)))\n",
    "\n",
    "Distancia = abs(planeta_1 - planeta_2)\n",
    "print(\"la distancia entre %s y %s es de %s km\" %(N_planeta1,N_planeta2,Distancia))"
   ]
  },
  {
   "cell_type": "markdown",
   "metadata": {},
   "source": [
    "Ejercicio 2: convierte cadenas en números y usa valores absolutos"
   ]
  },
  {
   "cell_type": "code",
   "execution_count": 16,
   "metadata": {},
   "outputs": [
    {
     "name": "stdout",
     "output_type": "stream",
     "text": [
      "la distancia entre venus y urano es de 49493.7 mi\n"
     ]
    }
   ],
   "source": [
    "#definición de variables \n",
    "N_planeta1= str(\"venus\")\n",
    "N_planeta2= str(\"urano\")\n",
    "planeta_1=int(input(\"Introduce la distancia del planeta {} en km\".format(N_planeta1)))\n",
    "\n",
    "planeta_2=int(input(\"Introduce la distancia del planeta {} en km\".format(N_planeta2)))\n",
    "\n",
    "Distancia = abs(planeta_1 - planeta_2)\n",
    "print(\"la distancia entre %s y %s es de %s mi\" %(N_planeta1,N_planeta2,Distancia*0.621))"
   ]
  }
 ],
 "metadata": {
  "interpreter": {
   "hash": "b89b5cfaba6639976dc87ff2fec6d58faec662063367e2c229c520fe71072417"
  },
  "kernelspec": {
   "display_name": "Python 3.10.2 64-bit",
   "language": "python",
   "name": "python3"
  },
  "language_info": {
   "codemirror_mode": {
    "name": "ipython",
    "version": 3
   },
   "file_extension": ".py",
   "mimetype": "text/x-python",
   "name": "python",
   "nbconvert_exporter": "python",
   "pygments_lexer": "ipython3",
   "version": "3.10.2"
  },
  "orig_nbformat": 4
 },
 "nbformat": 4,
 "nbformat_minor": 2
}
