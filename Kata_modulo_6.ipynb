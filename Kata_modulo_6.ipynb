{
 "cells": [
  {
   "cell_type": "code",
   "execution_count": null,
   "metadata": {},
   "outputs": [],
   "source": []
  },
  {
   "cell_type": "markdown",
   "metadata": {},
   "source": [
    "Ejercicio: Usar listas para almacenar nombres de planetas"
   ]
  },
  {
   "cell_type": "code",
   "execution_count": 10,
   "metadata": {},
   "outputs": [
    {
     "name": "stdout",
     "output_type": "stream",
     "text": [
      "Mercurio\n",
      "Venus\n",
      "Tierra\n",
      "Marte\n",
      "Jupiter\n",
      "Saturno\n",
      "Urano\n",
      "Neptuno\n",
      "Plutón\n"
     ]
    }
   ],
   "source": [
    "planetas = ['Mercurio', 'Venus', 'Tierra', 'Marte', 'Jupiter', 'Saturno', 'Urano', 'Neptuno']\n",
    "print(planetas[0])\n",
    "print(planetas[1])\n",
    "print(planetas[2])\n",
    "print(planetas[3])\n",
    "print(planetas[4])\n",
    "print(planetas[5])\n",
    "print(planetas[6])\n",
    "print(planetas[7])\n",
    "\n",
    "planetas.append(\"Plutón\")\n",
    "print(planetas[8])\n"
   ]
  },
  {
   "cell_type": "markdown",
   "metadata": {},
   "source": [
    "Ejercicio 2: Trabajando con datos de una lista"
   ]
  },
  {
   "cell_type": "code",
   "execution_count": 8,
   "metadata": {},
   "outputs": [
    {
     "name": "stdout",
     "output_type": "stream",
     "text": [
      "Los planetas más cercanos antes de Urano son: ['Mercurio', 'Venus', 'Tierra', 'Marte', 'Jupiter', 'Saturno']\n",
      "Los planetas más lejanos después de Urano son: ['Neptuno']\n"
     ]
    }
   ],
   "source": [
    "planetas = ['Mercurio', 'Venus', 'Tierra', 'Marte', 'Jupiter', 'Saturno', 'Urano', 'Neptuno']\n",
    "planeta = input(\"Escriba el nombre de un planeta de nuestro sistema solar (primer letra en Mayuscula, el resto en minusculas\")\n",
    "posicion = planetas.index(planeta)\n",
    "planetas_cercanos = planetas[0:posicion]\n",
    "print(\"Los planetas más cercanos antes de %s son: %s\"%(planeta,planetas_cercanos))\n",
    "longitud=len(planetas)\n",
    "planetas_lejanos=planetas[(posicion+1):longitud]\n",
    "print(\"Los planetas más lejanos después de %s son: %s\"%(planeta,planetas_lejanos))"
   ]
  }
 ],
 "metadata": {
  "interpreter": {
   "hash": "b89b5cfaba6639976dc87ff2fec6d58faec662063367e2c229c520fe71072417"
  },
  "kernelspec": {
   "display_name": "Python 3.10.2 64-bit",
   "language": "python",
   "name": "python3"
  },
  "language_info": {
   "codemirror_mode": {
    "name": "ipython",
    "version": 3
   },
   "file_extension": ".py",
   "mimetype": "text/x-python",
   "name": "python",
   "nbconvert_exporter": "python",
   "pygments_lexer": "ipython3",
   "version": "3.10.2"
  },
  "orig_nbformat": 4
 },
 "nbformat": 4,
 "nbformat_minor": 2
}
