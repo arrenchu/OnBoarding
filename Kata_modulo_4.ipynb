{
 "cells": [
  {
   "cell_type": "code",
   "execution_count": null,
   "metadata": {},
   "outputs": [],
   "source": []
  },
  {
   "cell_type": "markdown",
   "metadata": {},
   "source": [
    "Ejercicio 1: Transformar cadenas"
   ]
  },
  {
   "cell_type": "code",
   "execution_count": 48,
   "metadata": {},
   "outputs": [
    {
     "name": "stdout",
     "output_type": "stream",
     "text": [
      " \n",
      "On average the Moon moves 4cm away from the Earth every year\n",
      "The tempeture on the moon is 12°Celcius\n",
      " The moon distance from earth is  approximately 400,000 km\n",
      "Interesting facts about the Moon. The Moon is Earth's only satellite. There are several interesting facts about the Moon and how it affects life here on Earth. \n",
      "On average the Moon moves 4cm away from the Earth every year. \n",
      "This yearly drift is not significant enough to cause immediate effects on Earth. \n",
      "The highest daylight.The tempeture on the moon is 12°Celcius. How far away is the moon?. The moon distance from earth is  approximately 400,000 km\n"
     ]
    }
   ],
   "source": [
    "text = \"\"\"Interesting facts about the Moon. The Moon is Earth's only satellite. There are several interesting facts about the Moon and how it affects life here on Earth. \n",
    "On average the Moon moves 4cm away from the Earth every year. \n",
    "This yearly drift is not significant enough to cause immediate effects on Earth. \n",
    "The highest daylight.The tempeture on the moon is 12°C. How far away is the moon?. The moon distance from earth is  approximately 400,000 km\"\"\"\n",
    "\n",
    "texto_descompuesto = text.split(\".\")\n",
    "palabras_clave = [\"average\",\"tempeture\",\"distance\"]\n",
    "\n",
    "for oracion in texto_descompuesto:\n",
    "    for palabra_clave in palabras_clave: \n",
    "        if palabra_clave in oracion: \n",
    "            print(oracion.replace(\"C\",\"Celcius\"))\n",
    "            break \n",
    "\n",
    "l=list(text)\n",
    "l[text.find(\"C\")]= \"Celcius\"\n",
    "text = \"\".join(l)\n",
    "print(text)"
   ]
  },
  {
   "cell_type": "markdown",
   "metadata": {},
   "source": [
    "Ejercicio 2: Formateando Cadenas"
   ]
  },
  {
   "cell_type": "code",
   "execution_count": 77,
   "metadata": {},
   "outputs": [
    {
     "name": "stdout",
     "output_type": "stream",
     "text": [
      "---------------------------------------------------------------------------------------------------- \n",
      "Nombre del planeta: Tierra \n",
      "Gravedad en Luna: 1.6199999999999999 m/s2\n",
      "\n",
      "Datos de Gravedad sobre: Ganímedes\n",
      "-------------------------------------------------------------------------------\n",
      "Nombre del planeta: Marte \n",
      "Gravedad en Ganímedes: 1.4300000000000002 m/s2\n",
      "\n"
     ]
    }
   ],
   "source": [
    "name = \"Luna\"\n",
    "gravity = 0.00162 # in kms\n",
    "planet = \"Tierra\"\n",
    "#creando el titulo \n",
    "titulo = \"Gravedad en el satelite {} del planeta {}\".format(name,planet)\n",
    "\n",
    "\n",
    "hechos = f\"\"\"{'-'*100} \n",
    "Nombre del planeta: {planet} \n",
    "Gravedad en {name}: {gravity * 1000} m/s2\"\"\"\n",
    "\n",
    "template = f\"\"\"{titulo} \n",
    "{hechos} \n",
    "\"\"\" \n",
    "print(hechos)\n",
    "\n",
    "# Nuevos datos muestra\n",
    "name = 'Ganímedes'\n",
    "gravity = 0.00143\n",
    "planet = 'Marte '\n",
    "\n",
    "new_template = \"\"\"\n",
    "Datos de Gravedad sobre: {name}\n",
    "-------------------------------------------------------------------------------\n",
    "Nombre del planeta: {planet}\n",
    "Gravedad en {name}: {gravity} m/s2\n",
    "\"\"\"\n",
    "print(new_template.format(name=name, planet=planet, gravity=gravity*1000))"
   ]
  }
 ],
 "metadata": {
  "interpreter": {
   "hash": "b89b5cfaba6639976dc87ff2fec6d58faec662063367e2c229c520fe71072417"
  },
  "kernelspec": {
   "display_name": "Python 3.10.2 64-bit",
   "language": "python",
   "name": "python3"
  },
  "language_info": {
   "codemirror_mode": {
    "name": "ipython",
    "version": 3
   },
   "file_extension": ".py",
   "mimetype": "text/x-python",
   "name": "python",
   "nbconvert_exporter": "python",
   "pygments_lexer": "ipython3",
   "version": "3.10.2"
  },
  "orig_nbformat": 4
 },
 "nbformat": 4,
 "nbformat_minor": 2
}
