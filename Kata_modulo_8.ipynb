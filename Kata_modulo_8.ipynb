{
 "cells": [
  {
   "cell_type": "code",
   "execution_count": null,
   "metadata": {},
   "outputs": [],
   "source": []
  },
  {
   "cell_type": "markdown",
   "metadata": {},
   "source": [
    "Ejercicio 1: Creación de diccionarios de Python"
   ]
  },
  {
   "cell_type": "code",
   "execution_count": 11,
   "metadata": {},
   "outputs": [
    {
     "name": "stdout",
     "output_type": "stream",
     "text": [
      "marte\n",
      "2\n",
      "marte\n",
      "6752\n"
     ]
    }
   ],
   "source": [
    "planeta = { \n",
    "    'name': 'marte',\n",
    "    'lunas': 2\n",
    "}\n",
    "\n",
    "print(planeta.get('name'))\n",
    "print(planeta.get('lunas'))\n",
    "\n",
    "planeta['polar']=6752 \n",
    "planeta['Equatorial']=6792 \n",
    "\n",
    "print(planeta['name'])\n",
    "print(planeta['polar'])"
   ]
  },
  {
   "cell_type": "markdown",
   "metadata": {},
   "source": [
    "Ejercicio 2: Programación dinámica con diccionarios"
   ]
  },
  {
   "cell_type": "code",
   "execution_count": 1,
   "metadata": {},
   "outputs": [
    {
     "name": "stdout",
     "output_type": "stream",
     "text": [
      "0.0\n",
      "0.0\n",
      "0.08333333333333333\n",
      "0.25\n",
      "6.833333333333333\n",
      "13.666666666666666\n",
      "15.916666666666666\n",
      "17.083333333333332\n",
      "17.5\n",
      "17.666666666666668\n",
      "17.75\n",
      "17.833333333333332\n"
     ]
    }
   ],
   "source": [
    "lunas_planetas = { \n",
    "    'mercury': 0,\n",
    "    'venus': 0,\n",
    "    'earth': 1,\n",
    "    'mars': 2,\n",
    "    'jupiter': 79,\n",
    "    'saturn': 82,\n",
    "    'uranus': 27,\n",
    "    'neptune': 14,\n",
    "    'pluto': 5,\n",
    "    'haumea': 2,\n",
    "    'makemake': 1,\n",
    "    'eris': 1\n",
    "}\n",
    "\n",
    "lunas= lunas_planetas.values() \n",
    "\n",
    "planetas = len(lunas_planetas.keys())\n",
    "\n",
    "total_lunas = 0 \n",
    "for luna in lunas: \n",
    "    total_lunas= total_lunas+luna \n",
    "    promedio= total_lunas/planetas\n",
    "\n",
    "    print(promedio)"
   ]
  }
 ],
 "metadata": {
  "interpreter": {
   "hash": "b89b5cfaba6639976dc87ff2fec6d58faec662063367e2c229c520fe71072417"
  },
  "kernelspec": {
   "display_name": "Python 3.10.2 64-bit",
   "language": "python",
   "name": "python3"
  },
  "language_info": {
   "codemirror_mode": {
    "name": "ipython",
    "version": 3
   },
   "file_extension": ".py",
   "mimetype": "text/x-python",
   "name": "python",
   "nbconvert_exporter": "python",
   "pygments_lexer": "ipython3",
   "version": "3.10.2"
  },
  "orig_nbformat": 4
 },
 "nbformat": 4,
 "nbformat_minor": 2
}
