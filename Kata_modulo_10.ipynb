{
 "cells": [
  {
   "cell_type": "code",
   "execution_count": null,
   "metadata": {},
   "outputs": [],
   "source": []
  },
  {
   "cell_type": "markdown",
   "metadata": {},
   "source": [
    "Ejercicio de excepciones"
   ]
  },
  {
   "cell_type": "code",
   "execution_count": 10,
   "metadata": {},
   "outputs": [
    {
     "ename": "RuntimeError",
     "evalue": "No hay suficiente agua para 10 astronautas para los 3 dias que restan de la misión!",
     "output_type": "error",
     "traceback": [
      "\u001b[1;31m---------------------------------------------------------------------------\u001b[0m",
      "\u001b[1;31mRuntimeError\u001b[0m                              Traceback (most recent call last)",
      "\u001b[1;32mUntitled-1.ipynb Cell 3'\u001b[0m in \u001b[0;36m<module>\u001b[1;34m\u001b[0m\n\u001b[0;32m     <a href='vscode-notebook-cell:Untitled-1.ipynb?jupyter-notebook#ch0000002untitled?line=13'>14</a>\u001b[0m         \u001b[39mraise\u001b[39;00m \u001b[39mRuntimeError\u001b[39;00m(\u001b[39mf\u001b[39m\u001b[39m\"\u001b[39m\u001b[39mNo hay suficiente agua para \u001b[39m\u001b[39m{\u001b[39;00mastronautas\u001b[39m}\u001b[39;00m\u001b[39m astronautas para los \u001b[39m\u001b[39m{\u001b[39;00mdias\u001b[39m}\u001b[39;00m\u001b[39m dias que restan de la misión!\u001b[39m\u001b[39m\"\u001b[39m)\n\u001b[0;32m     <a href='vscode-notebook-cell:Untitled-1.ipynb?jupyter-notebook#ch0000002untitled?line=14'>15</a>\u001b[0m     \u001b[39mreturn\u001b[39;00m \u001b[39mf\u001b[39m\u001b[39m\"\u001b[39m\u001b[39mTotal de agua que queda para \u001b[39m\u001b[39m{\u001b[39;00mdias\u001b[39m}\u001b[39;00m\u001b[39m días son: \u001b[39m\u001b[39m{\u001b[39;00mtotal_agua\u001b[39m}\u001b[39;00m\u001b[39m litros\u001b[39m\u001b[39m\"\u001b[39m\n\u001b[1;32m---> <a href='vscode-notebook-cell:Untitled-1.ipynb?jupyter-notebook#ch0000002untitled?line=16'>17</a>\u001b[0m \u001b[39mprint\u001b[39m(cantidad_agua(\u001b[39m10\u001b[39;49m,\u001b[39m1\u001b[39;49m,\u001b[39m3\u001b[39;49m))\n",
      "\u001b[1;32mUntitled-1.ipynb Cell 3'\u001b[0m in \u001b[0;36mcantidad_agua\u001b[1;34m(astronautas, agua, dias)\u001b[0m\n\u001b[0;32m     <a href='vscode-notebook-cell:Untitled-1.ipynb?jupyter-notebook#ch0000002untitled?line=11'>12</a>\u001b[0m total_agua \u001b[39m=\u001b[39m agua \u001b[39m-\u001b[39m uso_total\n\u001b[0;32m     <a href='vscode-notebook-cell:Untitled-1.ipynb?jupyter-notebook#ch0000002untitled?line=12'>13</a>\u001b[0m \u001b[39mif\u001b[39;00m total_agua \u001b[39m<\u001b[39m \u001b[39m0\u001b[39m:\n\u001b[1;32m---> <a href='vscode-notebook-cell:Untitled-1.ipynb?jupyter-notebook#ch0000002untitled?line=13'>14</a>\u001b[0m     \u001b[39mraise\u001b[39;00m \u001b[39mRuntimeError\u001b[39;00m(\u001b[39mf\u001b[39m\u001b[39m\"\u001b[39m\u001b[39mNo hay suficiente agua para \u001b[39m\u001b[39m{\u001b[39;00mastronautas\u001b[39m}\u001b[39;00m\u001b[39m astronautas para los \u001b[39m\u001b[39m{\u001b[39;00mdias\u001b[39m}\u001b[39;00m\u001b[39m dias que restan de la misión!\u001b[39m\u001b[39m\"\u001b[39m)\n\u001b[0;32m     <a href='vscode-notebook-cell:Untitled-1.ipynb?jupyter-notebook#ch0000002untitled?line=14'>15</a>\u001b[0m \u001b[39mreturn\u001b[39;00m \u001b[39mf\u001b[39m\u001b[39m\"\u001b[39m\u001b[39mTotal de agua que queda para \u001b[39m\u001b[39m{\u001b[39;00mdias\u001b[39m}\u001b[39;00m\u001b[39m días son: \u001b[39m\u001b[39m{\u001b[39;00mtotal_agua\u001b[39m}\u001b[39;00m\u001b[39m litros\u001b[39m\u001b[39m\"\u001b[39m\n",
      "\u001b[1;31mRuntimeError\u001b[0m: No hay suficiente agua para 10 astronautas para los 3 dias que restan de la misión!"
     ]
    }
   ],
   "source": [
    "def cantidad_agua(astronautas, agua, dias):\n",
    "    for argument in [astronautas, agua, dias]:\n",
    "        try:\n",
    "            # If argument is an int, the following operation will work\n",
    "            argument / 10\n",
    "        except TypeError:\n",
    "            # TypError will be raised only if it isn't the right type \n",
    "            # Raise the same exception but with a better error message\n",
    "            raise TypeError(f\"Todo lo que escribas debe ser tipo entero, tu ingresaste: '{argument}'\")\n",
    "    uso_diario = astronautas * 11\n",
    "    uso_total = uso_diario * dias\n",
    "    total_agua = agua - uso_total\n",
    "    if total_agua < 0:\n",
    "        raise RuntimeError(f\"No hay suficiente agua para {astronautas} astronautas para los {dias} dias que restan de la misión!\")\n",
    "    return f\"Total de agua que queda para {dias} días son: {total_agua} litros\"\n",
    "\n",
    "print(cantidad_agua(10,1,3))"
   ]
  }
 ],
 "metadata": {
  "interpreter": {
   "hash": "b89b5cfaba6639976dc87ff2fec6d58faec662063367e2c229c520fe71072417"
  },
  "kernelspec": {
   "display_name": "Python 3.10.2 64-bit",
   "language": "python",
   "name": "python3"
  },
  "language_info": {
   "codemirror_mode": {
    "name": "ipython",
    "version": 3
   },
   "file_extension": ".py",
   "mimetype": "text/x-python",
   "name": "python",
   "nbconvert_exporter": "python",
   "pygments_lexer": "ipython3",
   "version": "3.10.2"
  },
  "orig_nbformat": 4
 },
 "nbformat": 4,
 "nbformat_minor": 2
}
